{
 "cells": [
  {
   "cell_type": "code",
   "execution_count": 12,
   "id": "f6613dfb-0e29-4f25-8aec-2770efd3b9c2",
   "metadata": {},
   "outputs": [],
   "source": [
    "# kfp\n",
    "import kfp\n",
    "from kfp import dsl\n",
    "from kfp.v2 import compiler\n",
    "from kfp.v2.dsl import (Artifact, Dataset, Input, InputPath, Model, Output,\n",
    "                        OutputPath, ClassificationMetrics, Metrics, component)\n",
    "from kfp.v2.google.client import AIPlatformClient\n",
    "\n",
    "# gcp\n",
    "from google.cloud import aiplatform\n",
    "from google_cloud_pipeline_components import aiplatform as gcc_aip\n",
    "from google.cloud import storage\n",
    "from googleapiclient import discovery\n",
    "from oauth2client.client import GoogleCredentials\n",
    "\n",
    "# i/o\n",
    "from typing import NamedTuple\n",
    "from io import StringIO\n",
    "import os\n",
    "\n",
    "# pandas & sklearn\n",
    "import pandas as pd\n",
    "import sklearn\n",
    "from sklearn.model_selection import train_test_split\n",
    "from sklearn.svm import SVC\n",
    "from sklearn.metrics import accuracy_score"
   ]
  },
  {
   "cell_type": "code",
   "execution_count": 2,
   "id": "05da87b7-b242-4465-90e8-fbc8e11d35f5",
   "metadata": {},
   "outputs": [],
   "source": [
    "storage_client = storage.Client()"
   ]
  },
  {
   "cell_type": "code",
   "execution_count": 3,
   "id": "0753323b-5a31-437c-8626-fec306a801a7",
   "metadata": {},
   "outputs": [],
   "source": [
    "USER_FLAG = \"--user\""
   ]
  },
  {
   "cell_type": "code",
   "execution_count": 4,
   "id": "8cd1e14d-e0b7-4d70-8fd4-3ceb71b8be02",
   "metadata": {},
   "outputs": [
    {
     "name": "stdout",
     "output_type": "stream",
     "text": [
      "KFP SDK version: 1.8.10\n",
      "google_cloud_pipeline_components version: 0.1.1\n"
     ]
    }
   ],
   "source": [
    "!python3 -c \"import kfp; print('KFP SDK version: {}'.format(kfp.__version__))\"\n",
    "!python3 -c \"import google_cloud_pipeline_components; print('google_cloud_pipeline_components version: {}'.format(google_cloud_pipeline_components.__version__))\""
   ]
  },
  {
   "cell_type": "code",
   "execution_count": 5,
   "id": "9364e38c-961f-4332-b97d-020dd4ee3212",
   "metadata": {},
   "outputs": [
    {
     "name": "stdout",
     "output_type": "stream",
     "text": [
      "Project ID:  kedro-kubeflow-334417\n"
     ]
    }
   ],
   "source": [
    "import os\n",
    "PROJECT_ID = \"\"\n",
    "# Get your Google Cloud project ID from gcloud\n",
    "if not os.getenv(\"IS_TESTING\"):\n",
    "    shell_output=!gcloud config list --format 'value(core.project)' 2>/dev/null\n",
    "    PROJECT_ID = shell_output[0]\n",
    "    print(\"Project ID: \", PROJECT_ID)"
   ]
  },
  {
   "cell_type": "code",
   "execution_count": 6,
   "id": "6a38f9c0-2fec-4396-9ff9-d614b916c77a",
   "metadata": {},
   "outputs": [
    {
     "name": "stdout",
     "output_type": "stream",
     "text": [
      "env: PATH=/home/jupyter/.local/bin:/usr/local/cuda/bin:/opt/conda/bin:/opt/conda/condabin:/usr/local/bin:/usr/bin:/bin:/usr/local/games:/usr/games:/home/jupyter/.local/bin\n"
     ]
    },
    {
     "data": {
      "text/plain": [
       "'gs://diab-gsbucket/pipeline_root/'"
      ]
     },
     "execution_count": 6,
     "metadata": {},
     "output_type": "execute_result"
    }
   ],
   "source": [
    "BUCKET_NAME=\"gs://diab-gsbucket\"\n",
    "PATH=%env PATH\n",
    "%env PATH={PATH}:/home/jupyter/.local/bin\n",
    "REGION=\"us-central1\"\n",
    "PIPELINE_NAME = \"diabetes_pipeline\"\n",
    "PIPELINE_ROOT = f\"{BUCKET_NAME}/pipeline_root/\"\n",
    "PIPELINE_ROOT"
   ]
  },
  {
   "cell_type": "code",
   "execution_count": 44,
   "id": "416b2077-a006-430a-809e-67c790970f4a",
   "metadata": {},
   "outputs": [],
   "source": [
    "@component(base_image='gcr.io/kedro-kubeflow-334417/custom-kubeflow:v1')\n",
    "def data_component(bucket: str, value: float, marker: int) -> int:\n",
    "    import kfp\n",
    "    import pandas as pd\n",
    "    import sklearn\n",
    "    from sklearn.model_selection import train_test_split\n",
    "    from kfp.v2.google.client import AIPlatformClient\n",
    "    from google.cloud import storage\n",
    "    \n",
    "    data = pd.read_csv('gs://iris-kfp/iris.csv') \n",
    "    '''\n",
    "    df = data\n",
    "    for column in df.columns:\n",
    "        df[column] = (df[column] - df[column].mean()) / df[column].std() \n",
    "    \n",
    "    data = df\n",
    "    \n",
    "    train_data = data.drop('Outcome',axis=1)\n",
    "    test_data = data['Outcome']    \n",
    "    \n",
    "    X_train, X_test, y_train, y_test = sklearn.model_selection.train_test_split(train_data, test_data, test_size = value, random_state=42)\n",
    "    X_train = X_train.to_csv()\n",
    "    X_test = X_test.to_csv()\n",
    "    y_train = y_train.to_csv()\n",
    "    y_test = y_test.to_csv()\n",
    "    '''\n",
    "    '''\n",
    "    service account\n",
    "    \n",
    "    create service account\n",
    "    generate key\n",
    "    here, kedro-kubeflow-334417-5b30b8ecc18f.json \n",
    "    '''\n",
    "    '''\n",
    "    storage_client = storage.Client()\n",
    "    bucket = storage_client.get_bucket('diab-gsbucket')\n",
    "    d = 'data/test_train'\n",
    "    d = bucket.blob(d)\n",
    "    \n",
    "    # 1. X_train\n",
    "    d.upload_from_string(f'{X_train}.csv', 'text/csv')\n",
    "    #xtrain = \"gs://diab-gsbucket/data/X_train.csv\"\n",
    "    \n",
    "    # 2. X_test\n",
    "    d.upload_from_string(f'{X_test}.csv', 'text/csv')\n",
    "    #xtest = \"gs://diab-gsbucket/data/X_test.csv\"\n",
    "    \n",
    "    # 3. y_train\n",
    "    d.upload_from_string(f'{y_train}.csv', 'text/csv')\n",
    "    #ytrain = \"gs://diab-gsbucket/data/y_train.csv\"\n",
    "    \n",
    "    # 4. y_test\n",
    "    d.upload_from_string(f'{y_test}.csv', 'text/csv')\n",
    "    #ytest = \"gs://diab-gsbucket/data/y_test.csv\"\n",
    "    '''\n",
    "    marker = 1\n",
    "    return marker\n",
    "    "
   ]
  },
  {
   "cell_type": "code",
   "execution_count": 59,
   "id": "cf57a0d2-6c95-4c42-a9c5-f943fe0c52ea",
   "metadata": {},
   "outputs": [],
   "source": [
    "@component(base_image='gcr.io/kedro-kubeflow-334417/custom-kubeflow:v1')\n",
    "def model_component(bucket:str, xtrain:str, ytrain:str, xtest:str, ytest:str, marker: int) -> float:\n",
    "    import pandas as pd    \n",
    "    from sklearn.svm import SVC\n",
    "    from sklearn.metrics import accuracy_score\n",
    "    \n",
    "    X_train = pd.read_csv(f'{bucket}/{xtrain}.csv', sep=\",\")\n",
    "    y_train = pd.read_csv(f'{bucket}/{ytrain}.csv', sep=\",\")\n",
    "    X_test = pd.read_csv(f'{bucket}/{xtest}.csv', sep=\",\")\n",
    "    y_test = pd.read_csv(f'{bucket}/{ytest}.csv', sep=\",\")    \n",
    "        \n",
    "    # train model\n",
    "    model = SVC(gamma='auto')\n",
    "    model.fit(X_train, y_train)\n",
    "    predictions = model.predict(X_test)\n",
    "\n",
    "    accuracy = accuracy_score(y_test, predictions)\n",
    "    \n",
    "    return accuracy"
   ]
  },
  {
   "cell_type": "code",
   "execution_count": 60,
   "id": "341bd2ae-a6c4-40ed-a93f-fc4e1baf7dda",
   "metadata": {},
   "outputs": [],
   "source": [
    "@component(base_image='gcr.io/kedro-kubeflow-334417/custom-kubeflow:v1',\n",
    "           output_component_file=\"true_decision_component.yaml\")\n",
    "def true_component(accuracy:float) -> None:\n",
    "    print(f'Yes!! {accuracy} is the Accuracy and its greater than the threshold')"
   ]
  },
  {
   "cell_type": "code",
   "execution_count": 61,
   "id": "130c5b38-283a-4eef-ab48-91d64a4f56f1",
   "metadata": {},
   "outputs": [],
   "source": [
    "@component(base_image='gcr.io/kedro-kubeflow-334417/custom-kubeflow:v1',\n",
    "           output_component_file=\"false_decision_component.yaml\")\n",
    "def false_component(accuracy:float) -> None:\n",
    "    print(f'No. {accuracy} is the Accuracy and its smaller than the threshold')"
   ]
  },
  {
   "cell_type": "code",
   "execution_count": 62,
   "id": "c806cba4-6214-449e-b110-b0e9eef6d291",
   "metadata": {},
   "outputs": [],
   "source": [
    "@kfp.dsl.pipeline(name = \"diabetes-pipeline\",\n",
    "                  pipeline_root = PIPELINE_ROOT)\n",
    "def diab_pipeline(\n",
    "    display_name: str=f\"{PIPELINE_NAME}-1\",\n",
    "    project: str = PROJECT_ID,\n",
    "    gcp_region: str = \"us-central1\",\n",
    "    api_endpoint: str = \"us-central1-aiplatform.googleapis.com\",\n",
    "    marker: int = 0,\n",
    "    test_train_split_ratio: float = 0.3,\n",
    "    accuracy_threshold: float = 0.5,\n",
    "    bucket: str = \"gs://iris-kfp\"\n",
    ") -> None:\n",
    "        \n",
    "    # initiating data component\n",
    "    data_op = data_component(bucket, test_train_split_ratio, marker)\n",
    "    \n",
    "    \n",
    "    # initiating model component\n",
    "    with dsl.Condition(data_op.output ==1):\n",
    "        model_op = model_component(bucket, \"X_train\", \"y_train\", \"X_test\", \"y_test\", data_op.output)\n",
    "    \n",
    "        with dsl.Condition(model_op.output >= accuracy_threshold, name=\"accuracy>=50\"):\n",
    "            true_component(model_op.output)\n",
    "        with dsl.Condition(model_op.output < accuracy_threshold, name=\"accuracy<50\"):\n",
    "            false_component(model_op.output)\n",
    "    "
   ]
  },
  {
   "cell_type": "code",
   "execution_count": 56,
   "id": "a34dae42-65d4-407a-b7fc-f5370377a209",
   "metadata": {},
   "outputs": [],
   "source": [
    "compiler.Compiler().compile(\n",
    "    pipeline_func=diab_pipeline, package_path=\"diab_pipeline.json\"\n",
    ")"
   ]
  },
  {
   "cell_type": "code",
   "execution_count": 57,
   "id": "68ab8e2e-4208-44aa-aac9-dfd6ebb52b45",
   "metadata": {},
   "outputs": [],
   "source": [
    "api_client = AIPlatformClient(\n",
    "    project_id=PROJECT_ID,\n",
    "    region=REGION,\n",
    ")"
   ]
  },
  {
   "cell_type": "code",
   "execution_count": 58,
   "id": "3cac5bb4-fb60-4e7d-bc18-7844cddc134e",
   "metadata": {},
   "outputs": [
    {
     "data": {
      "text/html": [
       "See the Pipeline job <a href=\"https://console.cloud.google.com/vertex-ai/locations/us-central1/pipelines/runs/diabetes-pipeline-20220201144651?project=kedro-kubeflow-334417\" target=\"_blank\" >here</a>."
      ],
      "text/plain": [
       "<IPython.core.display.HTML object>"
      ]
     },
     "metadata": {},
     "output_type": "display_data"
    }
   ],
   "source": [
    "response = api_client.create_run_from_job_spec(\n",
    "    \"diab_pipeline.json\", pipeline_root=PIPELINE_ROOT,\n",
    ")"
   ]
  },
  {
   "cell_type": "code",
   "execution_count": null,
   "id": "c1c67bbc-51fe-4521-9937-2f51d69262e9",
   "metadata": {},
   "outputs": [],
   "source": []
  },
  {
   "cell_type": "code",
   "execution_count": null,
   "id": "a3d59eb7-84c2-48ee-bcbf-bb81803b4f19",
   "metadata": {},
   "outputs": [],
   "source": []
  },
  {
   "cell_type": "code",
   "execution_count": null,
   "id": "e17b95e3-396e-4323-aeea-c36c1ee6b785",
   "metadata": {},
   "outputs": [],
   "source": []
  },
  {
   "cell_type": "code",
   "execution_count": null,
   "id": "f97a655f-a0d4-4bc3-acb4-943763387d7e",
   "metadata": {},
   "outputs": [],
   "source": []
  }
 ],
 "metadata": {
  "environment": {
   "kernel": "python3",
   "name": "tf2-gpu.2-7.m87",
   "type": "gcloud",
   "uri": "gcr.io/deeplearning-platform-release/tf2-gpu.2-7:m87"
  },
  "kernelspec": {
   "display_name": "Python 3",
   "language": "python",
   "name": "python3"
  },
  "language_info": {
   "codemirror_mode": {
    "name": "ipython",
    "version": 3
   },
   "file_extension": ".py",
   "mimetype": "text/x-python",
   "name": "python",
   "nbconvert_exporter": "python",
   "pygments_lexer": "ipython3",
   "version": "3.7.12"
  }
 },
 "nbformat": 4,
 "nbformat_minor": 5
}
